{
 "cells": [
  {
   "cell_type": "markdown",
   "metadata": {},
   "source": [
    "# Fitting Data with a Line\n",
    "\n",
    "Many of you have probably used Excel to fit data with a line.\n",
    "\n",
    "![excel_linear_regression](img/excel_linear_regression.jpg)\n",
    "\n",
    "We're going to review the math involved in this process to help understand how training an AI works.\n",
    "\n",
    "First we will load some tools that others wrote and we can use to help us work.\n",
    "* [Pandas](https://pandas.pydata.org/docs/): a toolkit for working with row vs. column data, like excel sheets, and CSV (Comma Seperated Values) files.\n",
    "* [Numpy](https://numpy.org/doc/): a toolkit for managing arrays, vectors, matrices, etc, doing math with them, slicing them up, and many other handy things.\n",
    "* [Matplotlib](https://matplotlib.org/stable/index.html): a toolkit for plotting data"
   ]
  },
  {
   "cell_type": "code",
   "execution_count": 4,
   "metadata": {},
   "outputs": [
    {
     "name": "stdout",
     "output_type": "stream",
     "text": [
      "Defaulting to user installation because normal site-packages is not writeable\n",
      "Collecting matplotlib\n",
      "  Downloading matplotlib-3.6.1-cp39-cp39-manylinux_2_17_x86_64.manylinux2014_x86_64.whl (11.8 MB)\n",
      "\u001b[K     |████████████████████████████████| 11.8 MB 31.3 MB/s eta 0:00:01\n",
      "\u001b[?25hCollecting cycler>=0.10\n",
      "  Downloading cycler-0.11.0-py3-none-any.whl (6.4 kB)\n",
      "Requirement already satisfied: numpy>=1.19 in /lus/theta-fs0/software/thetagpu/systems/miniconda3/lib/python3.9/site-packages (from matplotlib) (1.20.3)\n",
      "Requirement already satisfied: python-dateutil>=2.7 in /lus/theta-fs0/software/thetagpu/systems/miniconda3/lib/python3.9/site-packages (from matplotlib) (2.8.2)\n",
      "Collecting fonttools>=4.22.0\n",
      "  Downloading fonttools-4.38.0-py3-none-any.whl (965 kB)\n",
      "\u001b[K     |████████████████████████████████| 965 kB 107.7 MB/s eta 0:00:01\n",
      "\u001b[?25hRequirement already satisfied: pyparsing>=2.2.1 in /lus/theta-fs0/software/thetagpu/systems/miniconda3/lib/python3.9/site-packages (from matplotlib) (2.4.7)\n",
      "Collecting contourpy>=1.0.1\n",
      "  Downloading contourpy-1.0.6-cp39-cp39-manylinux_2_17_x86_64.manylinux2014_x86_64.whl (296 kB)\n",
      "\u001b[K     |████████████████████████████████| 296 kB 108.6 MB/s eta 0:00:01\n",
      "\u001b[?25hRequirement already satisfied: pillow>=6.2.0 in /lus/theta-fs0/software/thetagpu/systems/miniconda3/lib/python3.9/site-packages (from matplotlib) (8.3.2)\n",
      "Requirement already satisfied: packaging>=20.0 in /lus/theta-fs0/software/thetagpu/systems/miniconda3/lib/python3.9/site-packages (from matplotlib) (21.0)\n",
      "Collecting kiwisolver>=1.0.1\n",
      "  Downloading kiwisolver-1.4.4-cp39-cp39-manylinux_2_12_x86_64.manylinux2010_x86_64.whl (1.6 MB)\n",
      "\u001b[K     |████████████████████████████████| 1.6 MB 118.3 MB/s eta 0:00:01\n",
      "\u001b[?25hRequirement already satisfied: six>=1.5 in /lus/theta-fs0/software/thetagpu/systems/miniconda3/lib/python3.9/site-packages (from python-dateutil>=2.7->matplotlib) (1.16.0)\n",
      "Installing collected packages: kiwisolver, fonttools, cycler, contourpy, matplotlib\n",
      "\u001b[33m  WARNING: The scripts fonttools, pyftmerge, pyftsubset and ttx are installed in '/home/miax23/.local/bin' which is not on PATH.\n",
      "  Consider adding this directory to PATH or, if you prefer to suppress this warning, use --no-warn-script-location.\u001b[0m\n",
      "Successfully installed contourpy-1.0.6 cycler-0.11.0 fonttools-4.38.0 kiwisolver-1.4.4 matplotlib-3.6.1\n",
      "Note: you may need to restart the kernel to use updated packages.\n"
     ]
    }
   ],
   "source": [
    "pip install matplotlib"
   ]
  },
  {
   "cell_type": "code",
   "execution_count": 5,
   "metadata": {},
   "outputs": [],
   "source": [
    "import pandas as pd\n",
    "import numpy as np\n",
    "import matplotlib.pyplot as plt\n",
    "import IPython.display as ipydis\n",
    "import time"
   ]
  },
  {
   "cell_type": "markdown",
   "metadata": {},
   "source": [
    "# Dataset\n",
    "In the [previous notebook](00_make_slimmed_dataset.ipynb) we used a realestate dataset from Kaggle to produce this reduced dataset. This dataset contains the _sale price_ and _above ground square feet_ of many houses. We can use this data for our linear regression.\n",
    "\n",
    "We use Pandas to read the data file which is stored as Comma Separated Values (CSV). and print the column labels. CSV files are similar to excel sheets."
   ]
  },
  {
   "cell_type": "code",
   "execution_count": 6,
   "metadata": {},
   "outputs": [
    {
     "name": "stdout",
     "output_type": "stream",
     "text": [
      "Index(['Unnamed: 0', 'SalePrice', 'GrLivArea'], dtype='object')\n"
     ]
    }
   ],
   "source": [
    "data = pd.read_csv('slimmed_realestate_data.csv')\n",
    "print(data.columns)"
   ]
  },
  {
   "cell_type": "markdown",
   "metadata": {},
   "source": [
    "Now pandas provides some helpful tools for us to inspect our data. It provides a `plot()` function that, behind the scenes, is calling into the _Matplotlib_ library and calling the function [matplotlib.pyplot.plot()](https://matplotlib.org/stable/api/_as_gen/matplotlib.pyplot.plot.html). In this case, we simply tell it the names of the columns we want as our _x_ and _y_ values and the `style` (`'.'` tells `matplotlib` to use a small dot to represent each data point)."
   ]
  },
  {
   "cell_type": "code",
   "execution_count": 7,
   "metadata": {},
   "outputs": [
    {
     "data": {
      "text/plain": [
       "<AxesSubplot: xlabel='GrLivArea'>"
      ]
     },
     "execution_count": 7,
     "metadata": {},
     "output_type": "execute_result"
    },
    {
     "data": {
      "image/png": "[encoded data removed]",
      "text/plain": [
       "<Figure size 432x288 with 1 Axes>"
      ]
     },
     "metadata": {
      "needs_background": "light"
     },
     "output_type": "display_data"
    }
   ],
   "source": [
    "data.plot(x='GrLivArea',y='SalePrice',style='.')"
   ]
  },
  {
   "cell_type": "markdown",
   "metadata": {},
   "source": [
    "# Linear Regression\n",
    "\n",
    "If you have data, $(x,y)$, that you think can be fit by a line, $y = m x + b$, then there are [simple equations](https://en.wikipedia.org/wiki/Simple_linear_regression) one can use to calculate the slope ($m$) and intercept ($b$).\n",
    "\n",
    "They are:\n",
    "\n",
    "$$m = { n (\\Sigma xy) - (\\Sigma x) (\\Sigma y) \\over n (\\Sigma x^2) - (\\Sigma x)^2 } $$\n",
    "\n",
    "$$b = { (\\Sigma y) (\\Sigma x^2) - (\\Sigma x) (\\Sigma xy) \\over n (\\Sigma x^2) - (\\Sigma x)^2 } $$\n",
    "\n",
    "We'll break this calculation into a few steps to help make it easier.\n",
    "\n",
    "First lets define $x$ and $y$. $x$ will be our _above ground square footage_ and $y$ will be _sale price_. In our equations we have a few different values we need, such as $n$ which is just the number of points we have:"
   ]
  },
  {
   "cell_type": "code",
   "execution_count": 8,
   "metadata": {},
   "outputs": [],
   "source": [
    "n = len(data)"
   ]
  },
  {
   "cell_type": "markdown",
   "metadata": {},
   "source": [
    "Then we need our $x$ and $y$ by selecting only the column we care about for each one. Note about data formats: `data` is a Pandas [DataFrame](https://pandas.pydata.org/docs/reference/api/pandas.DataFrame.html#pandas.DataFrame) object which has rows and columns; `data['GrLivArea']` is a Pandas [Series](https://pandas.pydata.org/docs/reference/api/pandas.Series.html) object which only has rows; then we also convert from _Pandas_ data formats (in this case a _Series_) to _Numpy_ data formats using the `to_numpy()` function which is part of the Pandas _Series_ object. "
   ]
  },
  {
   "cell_type": "code",
   "execution_count": 9,
   "metadata": {},
   "outputs": [],
   "source": [
    "x = data['GrLivArea'].to_numpy()\n",
    "y = data['SalePrice'].to_numpy()"
   ]
  },
  {
   "cell_type": "markdown",
   "metadata": {},
   "source": [
    "Now we will calculate $\\Sigma xy$, $\\Sigma x$, $\\Sigma y$, and $\\Sigma x^2$:"
   ]
  },
  {
   "cell_type": "code",
   "execution_count": 10,
   "metadata": {},
   "outputs": [],
   "source": [
    "sum_xy = np.sum(x*y)\n",
    "sum_x = np.sum(x)\n",
    "sum_y = np.sum(y)\n",
    "sum_x2 = np.sum(x*x)"
   ]
  },
  {
   "cell_type": "markdown",
   "metadata": {},
   "source": [
    "The denominator in the equation for $m$ and $b$ are the same so we can calculate that once:"
   ]
  },
  {
   "cell_type": "code",
   "execution_count": 11,
   "metadata": {},
   "outputs": [],
   "source": [
    "denominator = n * sum_x2 - sum_x * sum_x"
   ]
  },
  {
   "cell_type": "markdown",
   "metadata": {},
   "source": [
    "Then we can calculate our fit values:"
   ]
  },
  {
   "cell_type": "code",
   "execution_count": 12,
   "metadata": {},
   "outputs": [
    {
     "name": "stdout",
     "output_type": "stream",
     "text": [
      "y = 87.688145 * x + 34754.077892\n"
     ]
    }
   ],
   "source": [
    "m = (n * sum_xy - sum_x * sum_y) / denominator\n",
    "b = (sum_y * sum_x2 - sum_x * sum_xy) / denominator\n",
    "print('y = %f * x + %f' % (m,b))\n",
    "\n",
    "# saving these for later comparison\n",
    "m_calc = m\n",
    "b_calc = b"
   ]
  },
  {
   "cell_type": "markdown",
   "metadata": {},
   "source": [
    "Now we can plot the fit results with our data to see how we did. \n",
    "\n",
    "First we define a plotting function because we're going to do this often and we want to reuse our code:"
   ]
  },
  {
   "cell_type": "code",
   "execution_count": 13,
   "metadata": {},
   "outputs": [],
   "source": [
    "def plot_data(x,y,m,b,plt = plt):\n",
    "   # plot our data points with 'bo' = blue circles\n",
    "   plt.plot(x,y,'bo')\n",
    "   # create the line based on our linear fit\n",
    "   # first we need to make x points\n",
    "   # the 'arange' function generates points between two limits (min,max)\n",
    "   linear_x = np.arange(x.min(),x.max())\n",
    "   # now we use our fit parameters to calculate the y points based on our x points\n",
    "   linear_y = linear_x * m + b\n",
    "   # plot the linear points using 'r-' = red line\n",
    "   plt.plot(linear_x,linear_y,'r-',label='fit')"
   ]
  },
  {
   "cell_type": "markdown",
   "metadata": {},
   "source": [
    "Now can use this function to plot our results:"
   ]
  },
  {
   "cell_type": "code",
   "execution_count": 14,
   "metadata": {},
   "outputs": [
    {
     "data": {
      "image/png": "[encoded data removed]",
      "text/plain": [
       "<Figure size 432x288 with 1 Axes>"
      ]
     },
     "metadata": {
      "needs_background": "light"
     },
     "output_type": "display_data"
    }
   ],
   "source": [
    "plot_data(x,y,m,b)"
   ]
  },
  {
   "cell_type": "markdown",
   "metadata": {},
   "source": [
    "# Stochastic Gradient Descent\n",
    "\n",
    "SGD is a common method in AI for training deep neural networks on large datasets. It is an iterative method for optimizing a loss function that we get to define. We will use this simple linear regression to demonstrate how it works.\n",
    "\n",
    "# The model\n",
    "\n",
    "In AI, neural networks are often referred to as a _model_ because, once fully trained, they should model (AKA predict) the behavior of our system. In our example, the system is how house prices vary based on house size. We know our system is roughly driven by a linear function:\n",
    "\n",
    "$$ \\hat{y_i}(x_i) = m * x_i + b $$\n",
    "\n",
    "We just need to figure out $m$ and $b$. Let's create a function that calculates our model given $x$, $m$, and $b$.\n"
   ]
  },
  {
   "cell_type": "code",
   "execution_count": 15,
   "metadata": {},
   "outputs": [],
   "source": [
    "def model(x,m,b):\n",
    "    return m * x + b"
   ]
  },
  {
   "cell_type": "markdown",
   "metadata": {},
   "source": [
    "\n",
    "# The Loss Function\n",
    "\n",
    "A _loss function_, or _objective function_, is something we define and is based on what we want to achieve. In the method of SGD, it is our goal to minimize (or make close to zero) the values calculated from the _loss function_. In our example, we ideally want the prediction of our _model_ to be equal to the actual data, though we will settle for \"as close as possible\".\n",
    "\n",
    "So we will select our _loss function_ to be the [Mean Squared Error](https://en.wikipedia.org/wiki/Mean_squared_error) function:\n",
    "\n",
    "$$ L(y_i,\\hat{y_i}) = (y_i - \\hat{y_i}(x_i))^2 $$\n",
    "\n",
    "where $y_i$ is our $i^{th}$ entry in the `data['SalePrice']` vector and $\\hat{y_i}$ is the prediction based on evaluting $m * x_i + b$.\n",
    "\n",
    "This function looks like the figure below when we plot it with $x=y_i - \\hat{y_i}(x_i)$ and we we want to be down near $y_i - \\hat{y_i}(x_i) = 0$ which indicates that our $y_i$ is as close as possible to $\\hat{y_i}$.\n",
    "\n",
    "![loss_func](img/loss_func.png)\n",
    "\n",
    "\n",
    "Here we crate a function that calculates this for us."
   ]
  },
  {
   "cell_type": "code",
   "execution_count": 16,
   "metadata": {},
   "outputs": [],
   "source": [
    "def loss(x,y,m,b):\n",
    "    y_predicted = model(x,m,b)\n",
    "    return np.power( y - y_predicted, 2 )"
   ]
  },
  {
   "cell_type": "markdown",
   "metadata": {},
   "source": [
    "# Minimizing the Loss Function\n",
    "\n",
    "We want to use the loss function in order to guide how to update $m$ and $b$ to better model our system. In calculus we learn to minimize a function with respect to a variable you calculate the _partial derivative_ with respect to the variable you want to vary.\n",
    "\n",
    "$$ { \\partial L \\over \\partial m } = 0 $$\n",
    "\n",
    "The location of the solution to this is the minimum as shown in the figure above. We can write down the partial derivative of the loss function as:\n",
    "\n",
    "$$ { \\partial L \\over \\partial m } = -2 x_i (y_i - \\hat{y_i}(x_i)) $$\n",
    "$$ { \\partial L \\over \\partial b } = -2 (y_i - \\hat{y_i}(x_i)) $$\n",
    "\n",
    "We can use this to calculate an adjustment to $m$ and $b$ that will reduce the loss function, effectively improving our fitting parameters. This is done using this equation:\n",
    "\n",
    "$$ m' = m - \\eta { \\partial L \\over \\partial m }$$\n",
    "$$ b' = b - \\eta { \\partial L \\over \\partial b }$$\n",
    "\n",
    "Here our original $m$ and $b$ are adjusted by the partial derivative multiplied by some small factor, $\\eta$, called the _learning rate_. This learning rate is very important in our process and must be tuned for every problem.\n",
    "\n",
    "In our example, the selection of the learning rate essentially defines how close we can get to the minimum, AKA the best fit solution. This figure shows what happens when we pick a large learning rate. We first select a starting point in our loss function (typically randomly), then every update from $m$/$b$ to $m'$/$b'$ results in a shift to somewhere else on our loss function (following the red arrows). In this example, our learning rate ($\\eta$) has been selected too large such that we bounce back and forth around the minimum, never reaching it.\n",
    "\n",
    "![largeLR](img/parabola_largeLR.png)\n",
    "\n",
    "If we select a smaller learning we can see better behavior in the next figure.\n",
    "\n",
    "![smallLR](img/parabola_smallLR.png)\n",
    "\n",
    "Though, keep in mind, too small a learning rate results is so little progress toward the minimum that you may never reach it!\n",
    "\n",
    "A pit fall of SGD that one must be aware of is when your loss function is complex, with many minima. The next figure shows such a case, in which we select a small learning rate and our starting point happens to be near a local minimum that is not the lowest minimum. As shown, we do reach a minimum, but it isn't the lowest minimum in our loss function. It could be that we randomly select a starting point near the minimum we care about, but we should build methods that are more robust against randomly getting the right answer.\n",
    "\n",
    "![local_min_smallLR](img/local_min_smallLR.png)\n",
    "\n",
    "Then, if we increase our learning rate too much, we bounce around again.\n",
    "\n",
    "![local_min_largeLR](img/local_min_largeLR.png)\n",
    "\n",
    "What we want to do in this situation is start with a large learning rate and slowly reduce its size as we progress. That is shown in this next figure.\n",
    "\n",
    "![local_min_variableLR](img/local_min_variableLR.png)\n",
    "\n",
    "As you can see, this process is not perfect and could still land in a local minimum, but it is important to be aware of these behaviors as you utilize SGD in machine learning.\n",
    "\n",
    "So let's continue, we'll build functions we can use to update our fit parameters, $m$ and $b$."
   ]
  },
  {
   "cell_type": "code",
   "execution_count": 17,
   "metadata": {},
   "outputs": [],
   "source": [
    "def updated_m(x,y,m,b,learning_rate):\n",
    "    dL_dm = - 2 * x * (y - model(x,m,b))\n",
    "    dL_dm = np.mean(dL_dm)\n",
    "    return m - learning_rate * dL_dm\n",
    "\n",
    "def updated_b(x,y,m,b,learning_rate):\n",
    "    dL_db = - 2 * (y - model(x,m,b))\n",
    "    dL_db = np.mean(dL_db)\n",
    "    return b - learning_rate * dL_db"
   ]
  },
  {
   "cell_type": "markdown",
   "metadata": {},
   "source": [
    "# Putting it together\n",
    "\n",
    "We can now randomly select our initial slope and intercept:"
   ]
  },
  {
   "cell_type": "code",
   "execution_count": 18,
   "metadata": {
    "scrolled": true
   },
   "outputs": [
    {
     "name": "stdout",
     "output_type": "stream",
     "text": [
      "y_i = 5.00 * x + 1000.00\n"
     ]
    }
   ],
   "source": [
    "m = 5.\n",
    "b = 1000.\n",
    "print('y_i = %.2f * x + %.2f' % (m,b))"
   ]
  },
  {
   "cell_type": "markdown",
   "metadata": {},
   "source": [
    "Then we can calculate our Loss function:"
   ]
  },
  {
   "cell_type": "code",
   "execution_count": 19,
   "metadata": {},
   "outputs": [
    {
     "name": "stdout",
     "output_type": "stream",
     "text": [
      "first 10 loss values:  [3.03421561e+10 3.55511025e+10 1.24579082e+10 1.91656336e+10\n",
      " 1.60604929e+10 2.04432804e+10 1.72410030e+10 1.76517796e+10\n",
      " 1.52769600e+10 2.18152900e+10]\n"
     ]
    }
   ],
   "source": [
    "l = loss(x,y,m,b)\n",
    "print('first 10 loss values: ',l[:10])"
   ]
  },
  {
   "cell_type": "code",
   "execution_count": 20,
   "metadata": {},
   "outputs": [
    {
     "name": "stdout",
     "output_type": "stream",
     "text": [
      "y_i = 5.47 * x + 1000.00     previously calculated: y_i = 87.69 * x + 34754.08\n"
     ]
    },
    {
     "data": {
      "image/png": "[encoded data removed]",
      "text/plain": [
       "<Figure size 432x288 with 1 Axes>"
      ]
     },
     "metadata": {
      "needs_background": "light"
     },
     "output_type": "display_data"
    }
   ],
   "source": [
    "learning_rate = 1e-9\n",
    "m = updated_m(x,y,m,b,learning_rate)\n",
    "b = updated_b(x,y,m,b,learning_rate)\n",
    "print('y_i = %.2f * x + %.2f     previously calculated: y_i = %.2f * x + %.2f' % (m,b,m_calc,b_calc))\n",
    "plot_data(x,y,m,b)"
   ]
  },
  {
   "cell_type": "code",
   "execution_count": 21,
   "metadata": {},
   "outputs": [
    {
     "name": "stdout",
     "output_type": "stream",
     "text": [
      "[029]  dy_i = 88.89 * x + 32912.24     previously calculated: y_i = 87.69 * x + 34754.08    loss: 1478200827.641291\n"
     ]
    },
    {
     "data": {
      "image/png": "[encoded data removed]",
      "text/plain": [
       "<Figure size 1440x480 with 2 Axes>"
      ]
     },
     "metadata": {
      "needs_background": "light"
     },
     "output_type": "display_data"
    }
   ],
   "source": [
    "# set our initial slope and intercept\n",
    "m = 5.\n",
    "b = 1000.\n",
    "# batch_size = 60\n",
    "# set a learning rate for each parameter\n",
    "learning_rate_m = 1e-7\n",
    "learning_rate_b = 1e-1\n",
    "# use these to plot our progress over time\n",
    "loss_history = []\n",
    "\n",
    "# we run our loop N times\n",
    "loop_N = 30\n",
    "for i in range(loop_N):\n",
    "   \n",
    "   # convert panda data to numpy arrays, one for the \"Ground Living Area\" and one for \"Sale Price\"\n",
    "    data_x = data['GrLivArea'].to_numpy()\n",
    "    data_y = data['SalePrice'].to_numpy()\n",
    "\n",
    "    # update our slope and intercept based on the current values\n",
    "    m = updated_m(data_x,data_y,m,b,learning_rate_m)\n",
    "    b = updated_b(data_x,data_y,m,b,learning_rate_b)\n",
    "\n",
    "    # calculate the loss value\n",
    "    loss_value = np.mean(loss(data_x,data_y,m,b))\n",
    "\n",
    "    # keep a history of our loss values\n",
    "    loss_history.append(loss_value)\n",
    "\n",
    "    # print our progress\n",
    "    print('[%03d]  dy_i = %.2f * x + %.2f     previously calculated: y_i = %.2f * x + %.2f    loss: %f' % (i,m,b,m_calc,b_calc,loss_value))\n",
    "\n",
    "    # close/delete previous plots\n",
    "    plt.close('all')\n",
    "\n",
    "    # create a 1 by 2 plot grid\n",
    "    fig,ax = plt.subplots(1,2,figsize=(18,6),dpi=80)\n",
    "    # lot our usual output\n",
    "    plot_data(data_x,data_y,m,b,ax[0])\n",
    "\n",
    "    # here we also plot the calculated linear fit for comparison\n",
    "    line_x = np.arange(data_x.min(),data_x.max())\n",
    "    line_y = line_x * m_calc + b_calc\n",
    "    ax[0].plot(line_x,line_y,'b-',label='calculated')\n",
    "    # add a legend to the plot and x/y labels\n",
    "    ax[0].legend()\n",
    "    ax[0].set_xlabel('square footage')\n",
    "    ax[0].set_ylabel('sale price')\n",
    "\n",
    "    # plot the loss \n",
    "    loss_x = np.arange(0,len(loss_history))\n",
    "    loss_y = np.asarray(loss_history)\n",
    "    ax[1].plot(loss_x,loss_y)\n",
    "    ax[1].set_yscale('log')\n",
    "    ax[1].set_xlabel('loop step')\n",
    "    ax[1].set_ylabel('loss')\n",
    "    plt.show()\n",
    "    # gives us time to see the plot\n",
    "    time.sleep(2.5)\n",
    "    # clears the plot when the next plot is ready to show.\n",
    "    ipydis.clear_output(wait=True)\n",
    "\n"
   ]
  },
  {
   "cell_type": "code",
   "execution_count": 22,
   "metadata": {
    "scrolled": true
   },
   "outputs": [
    {
     "data": {
      "text/html": [
       "<div>\n",
       "<style scoped>\n",
       "    .dataframe tbody tr th:only-of-type {\n",
       "        vertical-align: middle;\n",
       "    }\n",
       "\n",
       "    .dataframe tbody tr th {\n",
       "        vertical-align: top;\n",
       "    }\n",
       "\n",
       "    .dataframe thead th {\n",
       "        text-align: right;\n",
       "    }\n",
       "</style>\n",
       "<table border=\"1\" class=\"dataframe\">\n",
       "  <thead>\n",
       "    <tr style=\"text-align: right;\">\n",
       "      <th></th>\n",
       "      <th>Unnamed: 0</th>\n",
       "      <th>SalePrice</th>\n",
       "      <th>GrLivArea</th>\n",
       "    </tr>\n",
       "  </thead>\n",
       "  <tbody>\n",
       "    <tr>\n",
       "      <th>0</th>\n",
       "      <td>1</td>\n",
       "      <td>181500</td>\n",
       "      <td>1262</td>\n",
       "    </tr>\n",
       "    <tr>\n",
       "      <th>1</th>\n",
       "      <td>7</td>\n",
       "      <td>200000</td>\n",
       "      <td>2090</td>\n",
       "    </tr>\n",
       "    <tr>\n",
       "      <th>2</th>\n",
       "      <td>9</td>\n",
       "      <td>118000</td>\n",
       "      <td>1077</td>\n",
       "    </tr>\n",
       "    <tr>\n",
       "      <th>3</th>\n",
       "      <td>12</td>\n",
       "      <td>144000</td>\n",
       "      <td>912</td>\n",
       "    </tr>\n",
       "    <tr>\n",
       "      <th>4</th>\n",
       "      <td>15</td>\n",
       "      <td>132000</td>\n",
       "      <td>854</td>\n",
       "    </tr>\n",
       "  </tbody>\n",
       "</table>\n",
       "</div>"
      ],
      "text/plain": [
       "   Unnamed: 0  SalePrice  GrLivArea\n",
       "0           1     181500       1262\n",
       "1           7     200000       2090\n",
       "2           9     118000       1077\n",
       "3          12     144000        912\n",
       "4          15     132000        854"
      ]
     },
     "execution_count": 22,
     "metadata": {},
     "output_type": "execute_result"
    }
   ],
   "source": [
    "data.head()"
   ]
  },
  {
   "cell_type": "code",
   "execution_count": 23,
   "metadata": {},
   "outputs": [
    {
     "data": {
      "text/html": [
       "<div>\n",
       "<style scoped>\n",
       "    .dataframe tbody tr th:only-of-type {\n",
       "        vertical-align: middle;\n",
       "    }\n",
       "\n",
       "    .dataframe tbody tr th {\n",
       "        vertical-align: top;\n",
       "    }\n",
       "\n",
       "    .dataframe thead th {\n",
       "        text-align: right;\n",
       "    }\n",
       "</style>\n",
       "<table border=\"1\" class=\"dataframe\">\n",
       "  <thead>\n",
       "    <tr style=\"text-align: right;\">\n",
       "      <th></th>\n",
       "      <th>Unnamed: 0</th>\n",
       "      <th>SalePrice</th>\n",
       "      <th>GrLivArea</th>\n",
       "    </tr>\n",
       "  </thead>\n",
       "  <tbody>\n",
       "    <tr>\n",
       "      <th>489</th>\n",
       "      <td>1299</td>\n",
       "      <td>154000</td>\n",
       "      <td>1246</td>\n",
       "    </tr>\n",
       "    <tr>\n",
       "      <th>528</th>\n",
       "      <td>1414</td>\n",
       "      <td>207000</td>\n",
       "      <td>1848</td>\n",
       "    </tr>\n",
       "    <tr>\n",
       "      <th>52</th>\n",
       "      <td>153</td>\n",
       "      <td>235000</td>\n",
       "      <td>1252</td>\n",
       "    </tr>\n",
       "    <tr>\n",
       "      <th>312</th>\n",
       "      <td>834</td>\n",
       "      <td>139950</td>\n",
       "      <td>1144</td>\n",
       "    </tr>\n",
       "    <tr>\n",
       "      <th>304</th>\n",
       "      <td>813</td>\n",
       "      <td>157900</td>\n",
       "      <td>1442</td>\n",
       "    </tr>\n",
       "    <tr>\n",
       "      <th>438</th>\n",
       "      <td>1164</td>\n",
       "      <td>194000</td>\n",
       "      <td>1432</td>\n",
       "    </tr>\n",
       "    <tr>\n",
       "      <th>524</th>\n",
       "      <td>1406</td>\n",
       "      <td>133000</td>\n",
       "      <td>768</td>\n",
       "    </tr>\n",
       "    <tr>\n",
       "      <th>184</th>\n",
       "      <td>497</td>\n",
       "      <td>184000</td>\n",
       "      <td>1820</td>\n",
       "    </tr>\n",
       "    <tr>\n",
       "      <th>28</th>\n",
       "      <td>71</td>\n",
       "      <td>129500</td>\n",
       "      <td>845</td>\n",
       "    </tr>\n",
       "    <tr>\n",
       "      <th>340</th>\n",
       "      <td>896</td>\n",
       "      <td>106500</td>\n",
       "      <td>951</td>\n",
       "    </tr>\n",
       "    <tr>\n",
       "      <th>218</th>\n",
       "      <td>583</td>\n",
       "      <td>325000</td>\n",
       "      <td>2775</td>\n",
       "    </tr>\n",
       "    <tr>\n",
       "      <th>316</th>\n",
       "      <td>839</td>\n",
       "      <td>130500</td>\n",
       "      <td>1200</td>\n",
       "    </tr>\n",
       "    <tr>\n",
       "      <th>288</th>\n",
       "      <td>745</td>\n",
       "      <td>299800</td>\n",
       "      <td>2715</td>\n",
       "    </tr>\n",
       "    <tr>\n",
       "      <th>199</th>\n",
       "      <td>531</td>\n",
       "      <td>128000</td>\n",
       "      <td>1362</td>\n",
       "    </tr>\n",
       "    <tr>\n",
       "      <th>100</th>\n",
       "      <td>272</td>\n",
       "      <td>290000</td>\n",
       "      <td>2270</td>\n",
       "    </tr>\n",
       "    <tr>\n",
       "      <th>42</th>\n",
       "      <td>122</td>\n",
       "      <td>136000</td>\n",
       "      <td>1080</td>\n",
       "    </tr>\n",
       "    <tr>\n",
       "      <th>168</th>\n",
       "      <td>461</td>\n",
       "      <td>155000</td>\n",
       "      <td>1135</td>\n",
       "    </tr>\n",
       "    <tr>\n",
       "      <th>113</th>\n",
       "      <td>304</td>\n",
       "      <td>295000</td>\n",
       "      <td>3493</td>\n",
       "    </tr>\n",
       "    <tr>\n",
       "      <th>57</th>\n",
       "      <td>165</td>\n",
       "      <td>127500</td>\n",
       "      <td>1355</td>\n",
       "    </tr>\n",
       "    <tr>\n",
       "      <th>114</th>\n",
       "      <td>307</td>\n",
       "      <td>89500</td>\n",
       "      <td>1406</td>\n",
       "    </tr>\n",
       "    <tr>\n",
       "      <th>422</th>\n",
       "      <td>1118</td>\n",
       "      <td>140000</td>\n",
       "      <td>1601</td>\n",
       "    </tr>\n",
       "    <tr>\n",
       "      <th>359</th>\n",
       "      <td>946</td>\n",
       "      <td>143000</td>\n",
       "      <td>1144</td>\n",
       "    </tr>\n",
       "    <tr>\n",
       "      <th>182</th>\n",
       "      <td>493</td>\n",
       "      <td>155000</td>\n",
       "      <td>1269</td>\n",
       "    </tr>\n",
       "    <tr>\n",
       "      <th>373</th>\n",
       "      <td>979</td>\n",
       "      <td>139000</td>\n",
       "      <td>1121</td>\n",
       "    </tr>\n",
       "    <tr>\n",
       "      <th>91</th>\n",
       "      <td>253</td>\n",
       "      <td>158000</td>\n",
       "      <td>1302</td>\n",
       "    </tr>\n",
       "    <tr>\n",
       "      <th>500</th>\n",
       "      <td>1333</td>\n",
       "      <td>125500</td>\n",
       "      <td>1360</td>\n",
       "    </tr>\n",
       "    <tr>\n",
       "      <th>235</th>\n",
       "      <td>615</td>\n",
       "      <td>137500</td>\n",
       "      <td>1054</td>\n",
       "    </tr>\n",
       "    <tr>\n",
       "      <th>519</th>\n",
       "      <td>1389</td>\n",
       "      <td>131000</td>\n",
       "      <td>1218</td>\n",
       "    </tr>\n",
       "    <tr>\n",
       "      <th>156</th>\n",
       "      <td>436</td>\n",
       "      <td>116000</td>\n",
       "      <td>1118</td>\n",
       "    </tr>\n",
       "    <tr>\n",
       "      <th>96</th>\n",
       "      <td>267</td>\n",
       "      <td>179500</td>\n",
       "      <td>2192</td>\n",
       "    </tr>\n",
       "    <tr>\n",
       "      <th>129</th>\n",
       "      <td>353</td>\n",
       "      <td>105900</td>\n",
       "      <td>720</td>\n",
       "    </tr>\n",
       "    <tr>\n",
       "      <th>545</th>\n",
       "      <td>1448</td>\n",
       "      <td>112000</td>\n",
       "      <td>1346</td>\n",
       "    </tr>\n",
       "    <tr>\n",
       "      <th>21</th>\n",
       "      <td>50</td>\n",
       "      <td>177000</td>\n",
       "      <td>1470</td>\n",
       "    </tr>\n",
       "    <tr>\n",
       "      <th>190</th>\n",
       "      <td>509</td>\n",
       "      <td>124500</td>\n",
       "      <td>1041</td>\n",
       "    </tr>\n",
       "    <tr>\n",
       "      <th>209</th>\n",
       "      <td>560</td>\n",
       "      <td>121500</td>\n",
       "      <td>1392</td>\n",
       "    </tr>\n",
       "    <tr>\n",
       "      <th>275</th>\n",
       "      <td>714</td>\n",
       "      <td>130500</td>\n",
       "      <td>1479</td>\n",
       "    </tr>\n",
       "    <tr>\n",
       "      <th>236</th>\n",
       "      <td>617</td>\n",
       "      <td>105500</td>\n",
       "      <td>832</td>\n",
       "    </tr>\n",
       "    <tr>\n",
       "      <th>346</th>\n",
       "      <td>911</td>\n",
       "      <td>143500</td>\n",
       "      <td>1268</td>\n",
       "    </tr>\n",
       "    <tr>\n",
       "      <th>127</th>\n",
       "      <td>346</td>\n",
       "      <td>151500</td>\n",
       "      <td>958</td>\n",
       "    </tr>\n",
       "    <tr>\n",
       "      <th>41</th>\n",
       "      <td>114</td>\n",
       "      <td>259500</td>\n",
       "      <td>2320</td>\n",
       "    </tr>\n",
       "    <tr>\n",
       "      <th>266</th>\n",
       "      <td>694</td>\n",
       "      <td>141500</td>\n",
       "      <td>1539</td>\n",
       "    </tr>\n",
       "    <tr>\n",
       "      <th>527</th>\n",
       "      <td>1411</td>\n",
       "      <td>140000</td>\n",
       "      <td>1668</td>\n",
       "    </tr>\n",
       "    <tr>\n",
       "      <th>233</th>\n",
       "      <td>611</td>\n",
       "      <td>148000</td>\n",
       "      <td>1032</td>\n",
       "    </tr>\n",
       "    <tr>\n",
       "      <th>388</th>\n",
       "      <td>1029</td>\n",
       "      <td>118000</td>\n",
       "      <td>1218</td>\n",
       "    </tr>\n",
       "    <tr>\n",
       "      <th>536</th>\n",
       "      <td>1431</td>\n",
       "      <td>143750</td>\n",
       "      <td>958</td>\n",
       "    </tr>\n",
       "    <tr>\n",
       "      <th>419</th>\n",
       "      <td>1113</td>\n",
       "      <td>134500</td>\n",
       "      <td>1008</td>\n",
       "    </tr>\n",
       "    <tr>\n",
       "      <th>38</th>\n",
       "      <td>106</td>\n",
       "      <td>100000</td>\n",
       "      <td>1047</td>\n",
       "    </tr>\n",
       "    <tr>\n",
       "      <th>65</th>\n",
       "      <td>184</td>\n",
       "      <td>127000</td>\n",
       "      <td>1252</td>\n",
       "    </tr>\n",
       "    <tr>\n",
       "      <th>263</th>\n",
       "      <td>688</td>\n",
       "      <td>392000</td>\n",
       "      <td>1419</td>\n",
       "    </tr>\n",
       "    <tr>\n",
       "      <th>128</th>\n",
       "      <td>352</td>\n",
       "      <td>95000</td>\n",
       "      <td>1111</td>\n",
       "    </tr>\n",
       "  </tbody>\n",
       "</table>\n",
       "</div>"
      ],
      "text/plain": [
       "     Unnamed: 0  SalePrice  GrLivArea\n",
       "489        1299     154000       1246\n",
       "528        1414     207000       1848\n",
       "52          153     235000       1252\n",
       "312         834     139950       1144\n",
       "304         813     157900       1442\n",
       "438        1164     194000       1432\n",
       "524        1406     133000        768\n",
       "184         497     184000       1820\n",
       "28           71     129500        845\n",
       "340         896     106500        951\n",
       "218         583     325000       2775\n",
       "316         839     130500       1200\n",
       "288         745     299800       2715\n",
       "199         531     128000       1362\n",
       "100         272     290000       2270\n",
       "42          122     136000       1080\n",
       "168         461     155000       1135\n",
       "113         304     295000       3493\n",
       "57          165     127500       1355\n",
       "114         307      89500       1406\n",
       "422        1118     140000       1601\n",
       "359         946     143000       1144\n",
       "182         493     155000       1269\n",
       "373         979     139000       1121\n",
       "91          253     158000       1302\n",
       "500        1333     125500       1360\n",
       "235         615     137500       1054\n",
       "519        1389     131000       1218\n",
       "156         436     116000       1118\n",
       "96          267     179500       2192\n",
       "129         353     105900        720\n",
       "545        1448     112000       1346\n",
       "21           50     177000       1470\n",
       "190         509     124500       1041\n",
       "209         560     121500       1392\n",
       "275         714     130500       1479\n",
       "236         617     105500        832\n",
       "346         911     143500       1268\n",
       "127         346     151500        958\n",
       "41          114     259500       2320\n",
       "266         694     141500       1539\n",
       "527        1411     140000       1668\n",
       "233         611     148000       1032\n",
       "388        1029     118000       1218\n",
       "536        1431     143750        958\n",
       "419        1113     134500       1008\n",
       "38          106     100000       1047\n",
       "65          184     127000       1252\n",
       "263         688     392000       1419\n",
       "128         352      95000       1111"
      ]
     },
     "execution_count": 23,
     "metadata": {},
     "output_type": "execute_result"
    }
   ],
   "source": [
    "data.sample(50)"
   ]
  },
  {
   "cell_type": "markdown",
   "metadata": {},
   "source": [
    "# In Class Exercises\n",
    "1. In AI, datasets are often very large and cannot be processed all at once as is done in the loop above. The data is instead randomly sampled in smaller _batches_ where each _batch_ contains `batch_size` inputs. How can you change the loop above to sample the dataset in smaller batches? Hint: Our `data` variable is a Pandas `DataFrame` object, search for \"how to sample a DataFrame\".\n",
    "2. As described above, learning rates that grow smaller over time can help find and get closer to global minima. In the loop above, our `learning_rate_m` and `learning_rate_b` are constant through the process of minimizing our parameters. How could you change the loop to reduce the learning rates over loop iterations?\n"
   ]
  },
  {
   "cell_type": "markdown",
   "metadata": {},
   "source": [
    "# ANSWER BELOW:"
   ]
  },
  {
   "cell_type": "markdown",
   "metadata": {},
   "source": [
    "### 1. To add the batch_size:\n",
    "    'data.sample(batch_size)'\n",
    "### 2. To reduce the learning rate for each parameter:\n",
    "    'learning_rate_m = learning_rate_m * 0.9'\n",
    "    'learning_rate_b = learning_rate_b * 0.9'"
   ]
  },
  {
   "cell_type": "code",
   "execution_count": 28,
   "metadata": {},
   "outputs": [
    {
     "name": "stdout",
     "output_type": "stream",
     "text": [
      "[049]  dy_i = 87.13 * x + 36443.48     previously calculated: y_i = 87.69 * x + 34754.08    loss: 1052951062.694532\n"
     ]
    },
    {
     "data": {
      "image/png": "[encoded data removed]",
      "text/plain": [
       "<Figure size 1440x480 with 2 Axes>"
      ]
     },
     "metadata": {
      "needs_background": "light"
     },
     "output_type": "display_data"
    }
   ],
   "source": [
    "# set our initial slope and intercept\n",
    "m = 5.\n",
    "b = 1000.\n",
    "\n",
    "# set a learning rate for each parameter\n",
    "learning_rate_m = 1e-7\n",
    "learning_rate_b = 1e-1\n",
    "# use these to plot our progress over time\n",
    "loss_history = []\n",
    "batch_size = 50\n",
    "# we run our loop N times\n",
    "loop_N = 50\n",
    "for i in range(loop_N):\n",
    "\n",
    "    # convert panda data to numpy arrays, one for the \"Ground Living Area\" and one for \"Sale Price\"\n",
    "    data_batch = data.sample(batch_size)\n",
    "    data_x = data_batch['GrLivArea'].to_numpy()\n",
    "    data_y = data_batch['SalePrice'].to_numpy()\n",
    "\n",
    "    # update our slope and intercept based on the current values\n",
    "    m = updated_m(data_x,data_y,m,b,learning_rate_m)\n",
    "    b = updated_b(data_x,data_y,m,b,learning_rate_b)\n",
    "\n",
    "    # calculate the loss value\n",
    "    loss_value = np.mean(loss(data_x,data_y,m,b))\n",
    "\n",
    "    # keep a history of our loss values\n",
    "    loss_history.append(loss_value)\n",
    "\n",
    "    # print our progress\n",
    "    print('[%03d]  dy_i = %.2f * x + %.2f     previously calculated: y_i = %.2f * x + %.2f    loss: %f' % (i,m,b,m_calc,b_calc,loss_value))\n",
    "\n",
    "    # close/delete previous plots\n",
    "    plt.close('all')\n",
    "\n",
    "    # create a 1 by 2 plot grid\n",
    "    fig,ax = plt.subplots(1,2,figsize=(18,6),dpi=80)\n",
    "    # lot our usual output\n",
    "    plot_data(data_x,data_y,m,b,ax[0])\n",
    "\n",
    "    # here we also plot the calculated linear fit for comparison\n",
    "    line_x = np.arange(data_x.min(),data_x.max())\n",
    "    line_y = line_x * m_calc + b_calc\n",
    "    ax[0].plot(line_x,line_y,'b-',label='calculated')\n",
    "    # add a legend to the plot and x/y labels\n",
    "    ax[0].legend()\n",
    "    ax[0].set_xlabel('square footage')\n",
    "    ax[0].set_ylabel('sale price')\n",
    "\n",
    "    # plot the loss \n",
    "    loss_x = np.arange(0,len(loss_history))\n",
    "    loss_y = np.asarray(loss_history)\n",
    "    ax[1].plot(loss_x,loss_y)\n",
    "    ax[1].set_yscale('log')\n",
    "    ax[1].set_xlabel('loop step')\n",
    "    ax[1].set_ylabel('loss')\n",
    "    plt.show()\n",
    "    # gives us time to see the plot\n",
    "    time.sleep(2.5)\n",
    "    # clears the plot when the next plot is ready to show.\n",
    "    ipydis.clear_output(wait=True)\n",
    "    \n",
    "    # reduce the learning rate for each parameter\n",
    "    learning_rate_m = learning_rate_m * 0.9\n",
    "    learning_rate_b = learning_rate_b * 0.9\n",
    "\n"
   ]
  },
  {
   "cell_type": "code",
   "execution_count": null,
   "metadata": {},
   "outputs": [],
   "source": []
  },
  {
   "cell_type": "code",
   "execution_count": null,
   "metadata": {},
   "outputs": [],
   "source": []
  },
  {
   "cell_type": "code",
   "execution_count": null,
   "metadata": {},
   "outputs": [],
   "source": []
  }
 ],
 "metadata": {
  "kernelspec": {
   "display_name": "Python 3 (ipykernel)",
   "language": "python",
   "name": "python3"
  },
  "language_info": {
   "codemirror_mode": {
    "name": "ipython",
    "version": 3
   },
   "file_extension": ".py",
   "mimetype": "text/x-python",
   "name": "python",
   "nbconvert_exporter": "python",
   "pygments_lexer": "ipython3",
   "version": "3.9.5"
  },
  "vscode": {
   "interpreter": {
    "hash": "ca11ad6395cdedf9566fae895615e536994dcaaccdd1d5f900a22af192bb117e"
   }
  }
 },
 "nbformat": 4,
 "nbformat_minor": 2
}
